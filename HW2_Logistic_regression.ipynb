{
 "cells": [
  {
   "cell_type": "markdown",
   "metadata": {},
   "source": [
    "### Домашня работа 2.\n",
    "### Логистическая регрессия. Работа с признаками"
   ]
  },
  {
   "cell_type": "markdown",
   "metadata": {},
   "source": [
    "\n",
    "### Оценивание и штрафы\n",
    "Каждая из задач имеет определенную «стоимость» (указана в скобках около задачи). Максимально допустимая оценка за работу — 15 баллов. Можно получить 4.5 бонусных балла.\n",
    "\n",
    "Неэффективная реализация кода может негативно отразиться на оценке."
   ]
  },
  {
   "cell_type": "code",
   "execution_count": 1,
   "metadata": {
    "ExecuteTime": {
     "end_time": "2023-12-16T16:59:17.928612400Z",
     "start_time": "2023-12-16T16:59:16.145329400Z"
    }
   },
   "outputs": [
    {
     "name": "stdout",
     "output_type": "stream",
     "text": [
      "Всем удачи!👒 Тут она точно пригодится.\n"
     ]
    }
   ],
   "source": [
    "import matplotlib.pyplot as plt\n",
    "import warnings\n",
    "warnings.filterwarnings('ignore')\n",
    "\n",
    "print('Всем удачи!👒 Тут она точно пригодится.')"
   ]
  },
  {
   "cell_type": "markdown",
   "metadata": {},
   "source": [
    "## Часть 1. Логистическая регрессия своими руками (4 балла)"
   ]
  },
  {
   "cell_type": "markdown",
   "metadata": {
    "ExecuteTime": {
     "end_time": "2018-10-12T07:36:04.765536Z",
     "start_time": "2018-10-12T07:35:57.814973Z"
    }
   },
   "source": [
    "Реализуйте логистическую регрессию, обучаемую с помощью:\n",
    "\n",
    "**Задание 1 (1.5 балла). Градиентного спуска**\n",
    "\n",
    "**Задание 2 (1.5 балла). Стохастического градиентного спуска**\n",
    "\n",
    "Во всех пунктах необходимо соблюдать следующие условия:\n",
    "- Градиентный спуск необходимо записать в векторном виде\n",
    "- Циклы средствами python допускается использовать только для итераций градиентного спуска;\n",
    "- В качестве критерия останова необходимо использовать (одновременно):\n",
    "    - проверку на евклидову норму разности весов на двух соседних итерациях (например, меньше некоторого малого числа порядка $10^{-6}$) задаваемого параметром `tolerance`;\n",
    "    - достижение максимального числа итераций (например, 10000), задаваемого параметром `max_iter`.\n",
    "\n",
    "Чтобы проследить, что оптимизационный процесс действительно сходится, будем использовать атрибут класса loss_history. В нём после вызова метода fit должны содержаться значения функции потерь для всех итераций, начиная с первой (до совершения первого шага по антиградиенту);\n",
    "\n",
    "Инициализировать веса можно случайным образом или нулевым вектором."
   ]
  },
  {
   "cell_type": "markdown",
   "metadata": {},
   "source": [
    "Полезно [почитать](https://scikit-learn.org/stable/developers/develop.html)."
   ]
  },
  {
   "cell_type": "code",
   "execution_count": 2,
   "metadata": {
    "ExecuteTime": {
     "end_time": "2023-12-16T17:02:42.533066900Z",
     "start_time": "2023-12-16T17:02:38.674018600Z"
    }
   },
   "outputs": [],
   "source": [
    "import numpy as np\n",
    "from sklearn.base import BaseEstimator\n",
    "from sklearn.utils.validation import check_X_y, check_array, check_is_fitted\n",
    "from sklearn.utils import shuffle\n",
    "\n",
    "\"\"\"\n",
    "Основные особенности реализации эстиматора: \n",
    "- для проверок входных данных и состояния эстиматора используются встроенные функции \n",
    "  check_X_y, check_array, check_is_fitted библиотеки scikit-learn\n",
    "- эстиматор реализует как обычный градиентный спуск, так и стохастический, включая  mini batch SGD. \n",
    "  Для задания размера батча используется параметр batch_size. Если установить его равным 1, то \n",
    "  мы получим обычный SGD. \n",
    "  Кроме того, эстиматору можно задать параметр use_epochs, который определяет алгоритм получения\n",
    "  батчей. use_epochs = False приведет к тому, что батчи на каждой итерации будут получаться случайным\n",
    "  образом из всего набора данных. При use_epochs = True на каждой итерации батч берется из \n",
    "  сформированного набора батчей эпохи, покрывающего весь датасет. Когда в рамках эпохи заканчиваются \n",
    "  батчи, генерируется новая эпоха с новым набором батчей       \n",
    "\"\"\"\n",
    "\n",
    "class LogReg(BaseEstimator):\n",
    "    \"\"\"\n",
    "    Некоторые проектные \n",
    "    \"\"\"\n",
    "    def __init__(self, gd_type='stochastic', \n",
    "                 tolerance=1e-4, max_iter=1000, w0=None, eta=1e-2, batch_size = 16, use_epochs = True):\n",
    "        \"\"\"\n",
    "        gd_type: 'full' or 'stochastic' \n",
    "        tolerance: for stopping gradient descent\n",
    "        max_iter: maximum number of steps in gradient descent\n",
    "        w0: np.array of shape (d) — init weights\n",
    "        eta: learning rate\n",
    "        batch_size: size of a batch in mini batch SGD if gd_type is set to 'stochastic'; ignored otherwise \n",
    "        \"\"\"\n",
    "        self.gd_type = gd_type\n",
    "        self.tolerance = tolerance\n",
    "        self.max_iter = max_iter\n",
    "        self.w0 = w0\n",
    "        self.w = None\n",
    "        self.eta = eta\n",
    "        self.batch_size = batch_size\n",
    "        self.loss_history = None \n",
    "        self.use_epochs = use_epochs \n",
    "    def fit(self, X, y):\n",
    "        \"\"\"\n",
    "        X: np.array of shape (ell, d)\n",
    "        y: np.array of shape (ell)\n",
    "        ---\n",
    "        output: self\n",
    "        \"\"\"\n",
    "        \n",
    "        # выполняем проверку входных данных с помощью спец.функций\n",
    "        # из scikit-learn (в соответствии с рекомендациями в статье \n",
    "        # Developing scikit-learn estimators) \n",
    "        X, y = check_X_y(X, y)\n",
    "        \n",
    "        \n",
    "        self.coef_ = np.zeros(X.shape[1]) if self.w0 is None else self.w0\n",
    "        self.loss_history = [self.calc_loss(X, y)]\n",
    "        self.__epoch_data = None\n",
    "        \n",
    "        for i in range(self.max_iter):\n",
    "\n",
    "            X_b, y_b = self.__get_next_batch(X, y)\n",
    "\n",
    "            delta_w = self.eta * self.calc_gradient(X_b,y_b)\n",
    "            self.coef_ = self.coef_ - delta_w \n",
    "            if np.linalg.norm(delta_w) < self.tolerance: \n",
    "                break\n",
    "            self.loss_history.append(self.calc_loss(X,y))\n",
    "        \n",
    "        self.is_fitted_ = True\n",
    "        return self\n",
    "    \n",
    "    def __get_next_batch(self, X, y):\n",
    "        if self.gd_type == 'stochastic':\n",
    "            if self.use_epochs: \n",
    "                return self.__get_batch_from_epoch(X, y)\n",
    "            else: \n",
    "                return self.__get_random_batch(X,y)\n",
    "        else:\n",
    "            return X,y\n",
    "    \n",
    "    def __get_random_batch(self, X, y):\n",
    "        batch_obj_indexes = np.random.choice(X.shape[0], self.batch_size, replace=False)\n",
    "        return X[batch_obj_indexes], y[batch_obj_indexes]\n",
    "    \n",
    "    def __get_batch_from_epoch(self, X, y):\n",
    "        if (self.__epoch_data is None) or (self.__epoch_data['next_batch_index'] > self.__epoch_data['max_batch_index']):\n",
    "            self.__create_epoch_data(X,y)\n",
    "        \n",
    "        X, y, i = self.__epoch_data['X'], self.__epoch_data['y'], self.__epoch_data['next_batch_index']\n",
    "        self.__epoch_data['next_batch_index'] = i + 1\n",
    "        start_index = i * self.batch_size\n",
    "        return X[start_index:(start_index + self.batch_size)], y[start_index:(start_index + self.batch_size)]\n",
    "        \n",
    "    def __create_epoch_data(self, X, y):\n",
    "        X_shuffled, y_shuffled = shuffle(X,y, random_state=42)\n",
    "        self.__epoch_data =  {'X' : X_shuffled, 'y': y_shuffled, 'next_batch_index':0, 'max_batch_index': (X_shuffled.shape[0] - 1) // self.batch_size}\n",
    "            \n",
    "    def predict_proba(self, X):\n",
    "        \"\"\"\n",
    "        X: np.array of shape (ell, d)\n",
    "        ---\n",
    "        output: np.array of shape (ell, 2)\n",
    "        \"\"\"\n",
    "        # выполняем проверку входных данных и состояния эстиматора \n",
    "        # с помощью спец.функций из scikit-learn в соответствии с \n",
    "        # рекомендациями в статье Developing scikit-learn estimators \n",
    "        X = check_array(X)\n",
    "        check_is_fitted(self, 'is_fitted_')\n",
    "        \n",
    "        p = self.__calc_probability(X)\n",
    "        # чтобы результат метода возвращал результат в том же виде, что и \n",
    "        # встроенные в scikit-learn модели лог.регрессии, вернем 2 стобца с \n",
    "        # оченками вероятности\n",
    "        return np.vstack((1 - p, p)).T\n",
    "    \n",
    "    def __calc_probability(self, X):\n",
    "         return 1/(1 + np.exp(-(X@ self.coef_)))\n",
    "    \n",
    "    def predict(self, X):\n",
    "        \"\"\"\n",
    "        X: np.array of shape (ell, d)\n",
    "        ---\n",
    "        output: np.array of shape (ell,)\n",
    "        \"\"\"\n",
    "        return np.argmax(self.predict_proba(X), axis=1)\n",
    "    \n",
    "    def calc_gradient(self, X, y):\n",
    "        \"\"\"\n",
    "        X: np.array of shape (ell, d) (ell can be equal to 1 if stochastic)\n",
    "        y: np.array of shape (ell)\n",
    "        ---\n",
    "        output: np.array of shape (d)\n",
    "        \"\"\"\n",
    "        return ((self.__calc_probability(X) - y) @ X) / X.shape[0]\n",
    "\n",
    "    def calc_loss(self, X, y):\n",
    "        \"\"\"\n",
    "        X: np.array of shape (ell, d)\n",
    "        y: np.array of shape (ell)\n",
    "        ---\n",
    "        output: float \n",
    "        \"\"\" \n",
    "        eps = 1e-9  # чтобы избежать ухода значений log(x) в очень большие \n",
    "                    # значения будем добавлять к x EPSILON \n",
    "        return -np.mean(y * np.log(self.__calc_probability(X) + eps) +\n",
    "                        (1-y) * np.log(1 - self.__calc_probability(X) + eps))\n",
    "        "
   ]
  },
  {
   "cell_type": "markdown",
   "metadata": {},
   "source": [
    "Синтетические данные"
   ]
  },
  {
   "cell_type": "code",
   "execution_count": 3,
   "metadata": {
    "ExecuteTime": {
     "end_time": "2023-12-16T17:02:45.980177300Z",
     "start_time": "2023-12-16T17:02:44.778784Z"
    }
   },
   "outputs": [],
   "source": [
    "%matplotlib inline\n",
    "\n",
    "from sklearn.datasets import make_classification\n",
    "from sklearn.model_selection import train_test_split"
   ]
  },
  {
   "cell_type": "code",
   "execution_count": 4,
   "metadata": {
    "ExecuteTime": {
     "end_time": "2023-12-16T17:02:47.890792300Z",
     "start_time": "2023-12-16T17:02:47.792664600Z"
    }
   },
   "outputs": [],
   "source": [
    "X, y = make_classification(\n",
    "    n_samples=100000, n_features=20, n_informative=10, n_redundant=10,\n",
    "    random_state=42)\n",
    "\n",
    "X_train, X_test, y_train, y_test = train_test_split(\n",
    "X, y, test_size=0.3, random_state=42)"
   ]
  },
  {
   "cell_type": "markdown",
   "metadata": {},
   "source": [
    "**Важно:** далее предполагается, что вы используете собственную реализацию логистической регрессии.\n",
    "Если с написанием класса возникли проблемы, используйте реализацию sklearn, чтобы не терять баллы за остальные задания."
   ]
  },
  {
   "cell_type": "markdown",
   "metadata": {},
   "source": [
    "**Задание 3 (1 балл)**\n",
    "\n",
    "Обучите логистическую регрессию на синтетических данных."
   ]
  },
  {
   "cell_type": "code",
   "execution_count": 15,
   "metadata": {
    "ExecuteTime": {
     "end_time": "2023-12-16T17:03:57.613867200Z",
     "start_time": "2023-12-16T17:03:55.685364300Z"
    }
   },
   "outputs": [],
   "source": [
    "model = LogReg(batch_size=32, max_iter=500, eta=0.01)\n",
    "model = model.fit(X_train,y_train)"
   ]
  },
  {
   "cell_type": "code",
   "execution_count": 16,
   "metadata": {
    "collapsed": false,
    "ExecuteTime": {
     "end_time": "2023-12-16T17:03:58.802239300Z",
     "start_time": "2023-12-16T17:03:58.709555Z"
    }
   },
   "outputs": [
    {
     "data": {
      "text/plain": "<Figure size 400x300 with 1 Axes>",
      "image/png": "[encoded data removed]"
     },
     "metadata": {},
     "output_type": "display_data"
    }
   ],
   "source": [
    "plt.figure(figsize=(4,3))\n",
    "plt.plot(model.loss_history)\n",
    "plt.ylabel('Значение функции потерь')\n",
    "plt.xlabel('Количество итераций')\n",
    "plt.title('Изменение значения функции \\nпотерь при обучении модели')\n",
    "plt.grid()\n",
    "plt.show()  "
   ]
  },
  {
   "cell_type": "markdown",
   "source": [
    "_Как видим по графику функции потерь, даже при числе итераций в 500 и размере батча в 32 эстиматор устойчиво находит минимум_"
   ],
   "metadata": {
    "collapsed": false
   }
  },
  {
   "cell_type": "markdown",
   "metadata": {},
   "source": [
    "На тестовой части посчитайте ROC-AUC, PR-AUC. Постройте ROC и PR кривые. Проинтерпретируйте результат."
   ]
  },
  {
   "cell_type": "code",
   "execution_count": 17,
   "metadata": {
    "ExecuteTime": {
     "end_time": "2023-12-16T17:04:18.455222400Z",
     "start_time": "2023-12-16T17:04:18.271483300Z"
    }
   },
   "outputs": [
    {
     "data": {
      "text/plain": "<Figure size 1200x400 with 2 Axes>",
      "image/png": "[encoded data removed]"
     },
     "metadata": {},
     "output_type": "display_data"
    }
   ],
   "source": [
    "from sklearn.metrics import roc_auc_score, precision_recall_curve, roc_curve, auc\n",
    "\n",
    "y_test_predicted_proba = model.predict_proba(X_test)[:,1]\n",
    "\n",
    "fpr, tpr, _ = roc_curve(y_test, y_test_predicted_proba)\n",
    "roc_auc = roc_auc_score(y_test, y_test_predicted_proba)\n",
    "\n",
    "precision, recall, _ = precision_recall_curve(y_test, y_test_predicted_proba)\n",
    "pr_auc = auc(recall, precision)\n",
    "\n",
    "plot_dataset = (\n",
    "    (fpr, tpr, 'False positive rate', 'True positive rate',  f'ROC - кривая (ROC-AUC: {roc_auc:.2f})'),\n",
    "    (recall, precision, 'Recall', 'Precision',  f'PR - кривая (PR-AUC: {pr_auc:.2f})'),\n",
    ")\n",
    "\n",
    "figure, axes = plt.subplots(1,2, figsize=(12,4))\n",
    "for i in range(2):\n",
    "    plot_data = plot_dataset[i]    \n",
    "    axes[i].plot(plot_data[0], plot_data[1])\n",
    "    axes[i].set_xlim([0, 1])\n",
    "    axes[i].set_ylim([0, 1])\n",
    "    axes[i].set_xlabel(plot_data[2])\n",
    "    axes[i].set_ylabel(plot_data[3])\n",
    "    axes[i].set_title(plot_data[4])\n",
    "    axes[i].grid()\n",
    "\n",
    "axes[0].plot([0, 1], [0, 1], 'y--')\n",
    "axes[1].fill_between(recall, precision, alpha=0.1)\n",
    "\n",
    "plt.show()"
   ]
  },
  {
   "cell_type": "markdown",
   "source": [
    "_Вычисленные значения площадей под кривыми ROC и PR (ROC-AUC и PR-AUC) довольно высокие, что говорит о том, что обученная на синтеческих данных модель логистической регрессии хорошо справляется с задачей классификации._"
   ],
   "metadata": {
    "collapsed": false
   }
  },
  {
   "cell_type": "markdown",
   "metadata": {},
   "source": [
    "## Часть 2. Работа с категориальными переменными (3 балла)"
   ]
  },
  {
   "cell_type": "markdown",
   "metadata": {},
   "source": [
    "В этой части мы научимся обрабатывать категориальные переменные, так как закодировать их в виде чисел недостаточно (это задаёт некоторый порядок, которого на категориальных переменных может и не быть). Существует два основных способа обработки категориальных значений:\n",
    "- One-hot-кодирование\n",
    "- Счётчики (CTR, mean-target кодирование, ...) — каждый категориальный признак заменяется на среднее значение целевой переменной по всем объектам, имеющим одинаковое значение в этом признаке.\n",
    "\n",
    "Начнём с one-hot-кодирования. Допустим наш категориальный признак $f_j(x)$ принимает значения из множества $C=\\{c_1, \\dots, c_m\\}$. Заменим его на $m$ бинарных признаков $b_1(x), \\dots, b_m(x)$, каждый из которых является индикатором одного из возможных категориальных значений:\n",
    "$$\n",
    "b_i(x) = [f_j(x) = c_i]\n",
    "$$"
   ]
  },
  {
   "cell_type": "markdown",
   "metadata": {
    "ExecuteTime": {
     "end_time": "2018-10-11T20:41:54.913436Z",
     "start_time": "2018-10-11T20:41:54.907515Z"
    }
   },
   "source": [
    "__Подготовка данных.__\n",
    "\n",
    "Загрузим данные с конкурса  [Kaggle Porto Seguro’s Safe Driver Prediction](https://www.kaggle.com/c/porto-seguro-safe-driver-prediction) (вам нужна только обучающая выборка). Задача состоит в определении водителей, которые в ближайший год воспользуются своей автомобильной страховкой (бинарная классификация). Но для нас важна будет не сама задача, а только её данные. При этом для задания мы немного модифицируем датасет."
   ]
  },
  {
   "cell_type": "code",
   "execution_count": 18,
   "metadata": {
    "ExecuteTime": {
     "end_time": "2023-12-16T17:13:55.335954200Z",
     "start_time": "2023-12-16T17:13:52.404518200Z"
    }
   },
   "outputs": [],
   "source": [
    "import pandas as pd\n",
    "data = pd.read_csv('train.csv', index_col=0)\n",
    "target = data.target.values\n",
    "data = data.drop('target', axis=1)"
   ]
  },
  {
   "cell_type": "markdown",
   "metadata": {},
   "source": [
    "Пересемплируем выборку так, чтобы положительных и отрицательных объектов в выборке было одинаковое число. Разделим на обучающую и тестовую выборки.\n"
   ]
  },
  {
   "cell_type": "code",
   "execution_count": 19,
   "metadata": {
    "ExecuteTime": {
     "end_time": "2023-12-16T17:14:00.927171700Z",
     "start_time": "2023-12-16T17:14:00.725807500Z"
    }
   },
   "outputs": [],
   "source": [
    "# some resampling\n",
    "np.random.seed(910)\n",
    "mask_plus = np.random.choice(np.where(target == 1)[0], 100000, replace=True)\n",
    "mask_zero = np.random.choice(np.where(target == 0)[0], 100000, replace=True)\n",
    "\n",
    "data = pd.concat((data.iloc[mask_plus], data.iloc[mask_zero]))\n",
    "target = np.hstack((target[mask_plus], target[mask_zero]))\n",
    "\n",
    "X_train, X_test, y_train, y_test = train_test_split(data, target, test_size=0.5)"
   ]
  },
  {
   "cell_type": "markdown",
   "metadata": {},
   "source": [
    "**Задание 5 (0 баллов).** Посчитайте качество (в этом задании будем работать c ROC-AUC) на исходных признаках при применении логистической регрессии."
   ]
  },
  {
   "cell_type": "code",
   "execution_count": 60,
   "metadata": {
    "ExecuteTime": {
     "end_time": "2023-12-16T17:22:07.806450600Z",
     "start_time": "2023-12-16T17:22:05.079231800Z"
    }
   },
   "outputs": [
    {
     "name": "stdout",
     "output_type": "stream",
     "text": [
      "0.5155059026232849\n",
      "CPU times: total: 1 s\n",
      "Wall time: 2.72 s\n"
     ]
    }
   ],
   "source": [
    "%%time\n",
    "model = LogReg(gd_type='stochastic', use_epochs=True, batch_size=128, max_iter=500, eta=0.1)\n",
    "model.fit(X_train, y_train)\n",
    "print(roc_auc_score(y_test, model.predict_proba(X_test)[:,1]))"
   ]
  },
  {
   "cell_type": "markdown",
   "metadata": {},
   "source": [
    "**Задание 6 (0.5 балла).** Закодируйте все категориальные признаки с помощью one-hot-кодирования. Обучите логистическую регрессию и посмотрите, как изменилось качество модели (с тем, что было до кодирования). Измерьте время, потребовавшееся на обучение модели."
   ]
  },
  {
   "cell_type": "markdown",
   "source": [
    "_Так как полное описание датасета у нас отсутствует, попробуем  кратко проанализировать типы и содержимое столбцов_"
   ],
   "metadata": {
    "collapsed": false
   }
  },
  {
   "cell_type": "code",
   "execution_count": 61,
   "metadata": {
    "ExecuteTime": {
     "end_time": "2023-12-16T17:22:42.901752200Z",
     "start_time": "2023-12-16T17:22:42.803467400Z"
    }
   },
   "outputs": [],
   "source": [
    "column_info = []\n",
    "for col in X_train.columns:\n",
    "    column_info.append({\n",
    "        \"Col\": col,\n",
    "        \"Type\": X_train[col].dtype,\n",
    "        \"Unique_count\" : X_train[col].unique().shape[0], \n",
    "        \"Unique_values\": X_train[col].unique() if X_train[col].unique().shape[0]< 10 else \", \".join(map(str, X_train[col].unique()[:10])) + ', ...'\n",
    "    })\n",
    "c_info = pd.DataFrame(column_info)"
   ]
  },
  {
   "cell_type": "markdown",
   "source": [
    "_Сначала посмотрим на столбцы с двумя уникальными значениями и убедимся, что они имеют значения 0 и 1 и их не нужно кодировать_"
   ],
   "metadata": {
    "collapsed": false
   }
  },
  {
   "cell_type": "code",
   "execution_count": 62,
   "outputs": [
    {
     "data": {
      "text/plain": "               Col   Type  Unique_count Unique_values\n5    ps_ind_06_bin  int64             2        [1, 0]\n6    ps_ind_07_bin  int64             2        [0, 1]\n7    ps_ind_08_bin  int64             2        [0, 1]\n8    ps_ind_09_bin  int64             2        [0, 1]\n9    ps_ind_10_bin  int64             2        [0, 1]\n10   ps_ind_11_bin  int64             2        [0, 1]\n11   ps_ind_12_bin  int64             2        [0, 1]\n12   ps_ind_13_bin  int64             2        [0, 1]\n15   ps_ind_16_bin  int64             2        [1, 0]\n16   ps_ind_17_bin  int64             2        [0, 1]\n17   ps_ind_18_bin  int64             2        [0, 1]\n22   ps_car_02_cat  int64             2        [1, 0]\n28   ps_car_08_cat  int64             2        [1, 0]\n51  ps_calc_15_bin  int64             2        [0, 1]\n52  ps_calc_16_bin  int64             2        [0, 1]\n53  ps_calc_17_bin  int64             2        [0, 1]\n54  ps_calc_18_bin  int64             2        [0, 1]\n55  ps_calc_19_bin  int64             2        [0, 1]\n56  ps_calc_20_bin  int64             2        [0, 1]",
      "text/html": "<div>\n<style scoped>\n    .dataframe tbody tr th:only-of-type {\n        vertical-align: middle;\n    }\n\n    .dataframe tbody tr th {\n        vertical-align: top;\n    }\n\n    .dataframe thead th {\n        text-align: right;\n    }\n</style>\n<table border=\"1\" class=\"dataframe\">\n  <thead>\n    <tr style=\"text-align: right;\">\n      <th></th>\n      <th>Col</th>\n      <th>Type</th>\n      <th>Unique_count</th>\n      <th>Unique_values</th>\n    </tr>\n  </thead>\n  <tbody>\n    <tr>\n      <th>5</th>\n      <td>ps_ind_06_bin</td>\n      <td>int64</td>\n      <td>2</td>\n      <td>[1, 0]</td>\n    </tr>\n    <tr>\n      <th>6</th>\n      <td>ps_ind_07_bin</td>\n      <td>int64</td>\n      <td>2</td>\n      <td>[0, 1]</td>\n    </tr>\n    <tr>\n      <th>7</th>\n      <td>ps_ind_08_bin</td>\n      <td>int64</td>\n      <td>2</td>\n      <td>[0, 1]</td>\n    </tr>\n    <tr>\n      <th>8</th>\n      <td>ps_ind_09_bin</td>\n      <td>int64</td>\n      <td>2</td>\n      <td>[0, 1]</td>\n    </tr>\n    <tr>\n      <th>9</th>\n      <td>ps_ind_10_bin</td>\n      <td>int64</td>\n      <td>2</td>\n      <td>[0, 1]</td>\n    </tr>\n    <tr>\n      <th>10</th>\n      <td>ps_ind_11_bin</td>\n      <td>int64</td>\n      <td>2</td>\n      <td>[0, 1]</td>\n    </tr>\n    <tr>\n      <th>11</th>\n      <td>ps_ind_12_bin</td>\n      <td>int64</td>\n      <td>2</td>\n      <td>[0, 1]</td>\n    </tr>\n    <tr>\n      <th>12</th>\n      <td>ps_ind_13_bin</td>\n      <td>int64</td>\n      <td>2</td>\n      <td>[0, 1]</td>\n    </tr>\n    <tr>\n      <th>15</th>\n      <td>ps_ind_16_bin</td>\n      <td>int64</td>\n      <td>2</td>\n      <td>[1, 0]</td>\n    </tr>\n    <tr>\n      <th>16</th>\n      <td>ps_ind_17_bin</td>\n      <td>int64</td>\n      <td>2</td>\n      <td>[0, 1]</td>\n    </tr>\n    <tr>\n      <th>17</th>\n      <td>ps_ind_18_bin</td>\n      <td>int64</td>\n      <td>2</td>\n      <td>[0, 1]</td>\n    </tr>\n    <tr>\n      <th>22</th>\n      <td>ps_car_02_cat</td>\n      <td>int64</td>\n      <td>2</td>\n      <td>[1, 0]</td>\n    </tr>\n    <tr>\n      <th>28</th>\n      <td>ps_car_08_cat</td>\n      <td>int64</td>\n      <td>2</td>\n      <td>[1, 0]</td>\n    </tr>\n    <tr>\n      <th>51</th>\n      <td>ps_calc_15_bin</td>\n      <td>int64</td>\n      <td>2</td>\n      <td>[0, 1]</td>\n    </tr>\n    <tr>\n      <th>52</th>\n      <td>ps_calc_16_bin</td>\n      <td>int64</td>\n      <td>2</td>\n      <td>[0, 1]</td>\n    </tr>\n    <tr>\n      <th>53</th>\n      <td>ps_calc_17_bin</td>\n      <td>int64</td>\n      <td>2</td>\n      <td>[0, 1]</td>\n    </tr>\n    <tr>\n      <th>54</th>\n      <td>ps_calc_18_bin</td>\n      <td>int64</td>\n      <td>2</td>\n      <td>[0, 1]</td>\n    </tr>\n    <tr>\n      <th>55</th>\n      <td>ps_calc_19_bin</td>\n      <td>int64</td>\n      <td>2</td>\n      <td>[0, 1]</td>\n    </tr>\n    <tr>\n      <th>56</th>\n      <td>ps_calc_20_bin</td>\n      <td>int64</td>\n      <td>2</td>\n      <td>[0, 1]</td>\n    </tr>\n  </tbody>\n</table>\n</div>"
     },
     "execution_count": 62,
     "metadata": {},
     "output_type": "execute_result"
    }
   ],
   "source": [
    "c_info[c_info['Unique_count'] == 2]"
   ],
   "metadata": {
    "collapsed": false,
    "ExecuteTime": {
     "end_time": "2023-12-16T17:22:45.949350400Z",
     "start_time": "2023-12-16T17:22:45.934533800Z"
    }
   }
  },
  {
   "cell_type": "markdown",
   "source": [
    "_Видим, что все столбцы имеют только значения 0 и 1, поэтому их мы кодировать не будем_\n",
    "_Теперь взглянем на остальные столбцы_"
   ],
   "metadata": {
    "collapsed": false
   }
  },
  {
   "cell_type": "code",
   "execution_count": 63,
   "outputs": [
    {
     "data": {
      "text/plain": "              Col     Type  Unique_count  \\\n0       ps_ind_01    int64             8   \n1   ps_ind_02_cat    int64             5   \n2       ps_ind_03    int64            12   \n3   ps_ind_04_cat    int64             3   \n4   ps_ind_05_cat    int64             8   \n13      ps_ind_14    int64             5   \n14      ps_ind_15    int64            14   \n18      ps_reg_01  float64            10   \n19      ps_reg_02  float64            19   \n20      ps_reg_03  float64          4399   \n21  ps_car_01_cat    int64            13   \n23  ps_car_03_cat    int64             3   \n24  ps_car_04_cat    int64            10   \n25  ps_car_05_cat    int64             3   \n26  ps_car_06_cat    int64            18   \n27  ps_car_07_cat    int64             3   \n29  ps_car_09_cat    int64             6   \n30  ps_car_10_cat    int64             3   \n31  ps_car_11_cat    int64           104   \n32      ps_car_11    int64             5   \n33      ps_car_12  float64           132   \n34      ps_car_13  float64         26545   \n35      ps_car_14  float64           731   \n36      ps_car_15  float64            15   \n37     ps_calc_01  float64            10   \n38     ps_calc_02  float64            10   \n39     ps_calc_03  float64            10   \n40     ps_calc_04    int64             6   \n41     ps_calc_05    int64             7   \n42     ps_calc_06    int64            10   \n43     ps_calc_07    int64            10   \n44     ps_calc_08    int64            11   \n45     ps_calc_09    int64             8   \n46     ps_calc_10    int64            24   \n47     ps_calc_11    int64            17   \n48     ps_calc_12    int64             9   \n49     ps_calc_13    int64            14   \n50     ps_calc_14    int64            23   \n\n                                        Unique_values  \n0                            [0, 1, 6, 2, 3, 4, 5, 7]  \n1                                    [1, 2, 3, -1, 4]  \n2                  5, 3, 7, 1, 2, 11, 8, 6, 4, 9, ...  \n3                                          [0, 1, -1]  \n4                           [0, 4, 2, 1, 6, -1, 3, 5]  \n13                                    [0, 3, 1, 2, 4]  \n14                5, 12, 4, 11, 0, 7, 9, 6, 8, 3, ...  \n18  0.6, 0.8, 0.4, 0.1, 0.7, 0.3, 0.9, 0.2, 0.0, 0...  \n19  0.3, 0.0, 0.2, 0.4, 0.6, 1.5, 0.1, 1.0, 0.5, 1...  \n20  0.8681877677, 0.605702072, 0.8803408431, -1.0,...  \n21               6, 11, 10, 5, 9, 7, 2, 4, -1, 0, ...  \n23                                         [-1, 0, 1]  \n24                  0, 2, 9, 1, 8, 3, 5, 6, 7, 4, ...  \n25                                         [0, -1, 1]  \n26               1, 4, 11, 7, 6, 0, 14, 10, 9, 3, ...  \n27                                         [1, 0, -1]  \n29                                [0, 2, 1, 3, -1, 4]  \n30                                          [1, 0, 2]  \n31         91, 104, 44, 1, 92, 56, 33, 37, 87, 8, ...  \n32                                   [2, 3, 0, 1, -1]  \n33  0.4179712909, 0.316227766, 0.4472135954999999,...  \n34  0.9635398751, 0.5817649122999999, 0.719029994,...  \n35  0.3657868232, 0.3807886553, 0.4062019202, 0.33...  \n36  3.4641016151, 2.4494897428, 2.6457513111, 3.60...  \n37  0.9, 0.2, 0.6, 0.3, 0.5, 0.4, 0.1, 0.7, 0.8, 0...  \n38  0.6, 0.3, 0.4, 0.1, 0.8, 0.0, 0.2, 0.7, 0.5, 0...  \n39  0.6, 0.0, 0.9, 0.3, 0.1, 0.7, 0.5, 0.8, 0.2, 0...  \n40                                 [2, 1, 4, 3, 0, 5]  \n41                              [3, 0, 1, 2, 5, 4, 6]  \n42                 9, 7, 6, 10, 8, 5, 4, 3, 2, 1, ...  \n43                  5, 3, 4, 1, 2, 6, 0, 7, 8, 9, ...  \n44               8, 12, 9, 11, 7, 10, 5, 6, 4, 3, ...  \n45                           [2, 5, 4, 3, 1, 0, 6, 7]  \n46             13, 7, 9, 14, 6, 5, 8, 11, 12, 10, ...  \n47                4, 9, 6, 2, 3, 10, 8, 12, 7, 5, ...  \n48                        [3, 0, 1, 2, 6, 5, 4, 7, 8]  \n49                 4, 2, 1, 5, 13, 7, 3, 0, 6, 8, ...  \n50             6, 12, 7, 10, 14, 9, 13, 11, 8, 3, ...  ",
      "text/html": "<div>\n<style scoped>\n    .dataframe tbody tr th:only-of-type {\n        vertical-align: middle;\n    }\n\n    .dataframe tbody tr th {\n        vertical-align: top;\n    }\n\n    .dataframe thead th {\n        text-align: right;\n    }\n</style>\n<table border=\"1\" class=\"dataframe\">\n  <thead>\n    <tr style=\"text-align: right;\">\n      <th></th>\n      <th>Col</th>\n      <th>Type</th>\n      <th>Unique_count</th>\n      <th>Unique_values</th>\n    </tr>\n  </thead>\n  <tbody>\n    <tr>\n      <th>0</th>\n      <td>ps_ind_01</td>\n      <td>int64</td>\n      <td>8</td>\n      <td>[0, 1, 6, 2, 3, 4, 5, 7]</td>\n    </tr>\n    <tr>\n      <th>1</th>\n      <td>ps_ind_02_cat</td>\n      <td>int64</td>\n      <td>5</td>\n      <td>[1, 2, 3, -1, 4]</td>\n    </tr>\n    <tr>\n      <th>2</th>\n      <td>ps_ind_03</td>\n      <td>int64</td>\n      <td>12</td>\n      <td>5, 3, 7, 1, 2, 11, 8, 6, 4, 9, ...</td>\n    </tr>\n    <tr>\n      <th>3</th>\n      <td>ps_ind_04_cat</td>\n      <td>int64</td>\n      <td>3</td>\n      <td>[0, 1, -1]</td>\n    </tr>\n    <tr>\n      <th>4</th>\n      <td>ps_ind_05_cat</td>\n      <td>int64</td>\n      <td>8</td>\n      <td>[0, 4, 2, 1, 6, -1, 3, 5]</td>\n    </tr>\n    <tr>\n      <th>13</th>\n      <td>ps_ind_14</td>\n      <td>int64</td>\n      <td>5</td>\n      <td>[0, 3, 1, 2, 4]</td>\n    </tr>\n    <tr>\n      <th>14</th>\n      <td>ps_ind_15</td>\n      <td>int64</td>\n      <td>14</td>\n      <td>5, 12, 4, 11, 0, 7, 9, 6, 8, 3, ...</td>\n    </tr>\n    <tr>\n      <th>18</th>\n      <td>ps_reg_01</td>\n      <td>float64</td>\n      <td>10</td>\n      <td>0.6, 0.8, 0.4, 0.1, 0.7, 0.3, 0.9, 0.2, 0.0, 0...</td>\n    </tr>\n    <tr>\n      <th>19</th>\n      <td>ps_reg_02</td>\n      <td>float64</td>\n      <td>19</td>\n      <td>0.3, 0.0, 0.2, 0.4, 0.6, 1.5, 0.1, 1.0, 0.5, 1...</td>\n    </tr>\n    <tr>\n      <th>20</th>\n      <td>ps_reg_03</td>\n      <td>float64</td>\n      <td>4399</td>\n      <td>0.8681877677, 0.605702072, 0.8803408431, -1.0,...</td>\n    </tr>\n    <tr>\n      <th>21</th>\n      <td>ps_car_01_cat</td>\n      <td>int64</td>\n      <td>13</td>\n      <td>6, 11, 10, 5, 9, 7, 2, 4, -1, 0, ...</td>\n    </tr>\n    <tr>\n      <th>23</th>\n      <td>ps_car_03_cat</td>\n      <td>int64</td>\n      <td>3</td>\n      <td>[-1, 0, 1]</td>\n    </tr>\n    <tr>\n      <th>24</th>\n      <td>ps_car_04_cat</td>\n      <td>int64</td>\n      <td>10</td>\n      <td>0, 2, 9, 1, 8, 3, 5, 6, 7, 4, ...</td>\n    </tr>\n    <tr>\n      <th>25</th>\n      <td>ps_car_05_cat</td>\n      <td>int64</td>\n      <td>3</td>\n      <td>[0, -1, 1]</td>\n    </tr>\n    <tr>\n      <th>26</th>\n      <td>ps_car_06_cat</td>\n      <td>int64</td>\n      <td>18</td>\n      <td>1, 4, 11, 7, 6, 0, 14, 10, 9, 3, ...</td>\n    </tr>\n    <tr>\n      <th>27</th>\n      <td>ps_car_07_cat</td>\n      <td>int64</td>\n      <td>3</td>\n      <td>[1, 0, -1]</td>\n    </tr>\n    <tr>\n      <th>29</th>\n      <td>ps_car_09_cat</td>\n      <td>int64</td>\n      <td>6</td>\n      <td>[0, 2, 1, 3, -1, 4]</td>\n    </tr>\n    <tr>\n      <th>30</th>\n      <td>ps_car_10_cat</td>\n      <td>int64</td>\n      <td>3</td>\n      <td>[1, 0, 2]</td>\n    </tr>\n    <tr>\n      <th>31</th>\n      <td>ps_car_11_cat</td>\n      <td>int64</td>\n      <td>104</td>\n      <td>91, 104, 44, 1, 92, 56, 33, 37, 87, 8, ...</td>\n    </tr>\n    <tr>\n      <th>32</th>\n      <td>ps_car_11</td>\n      <td>int64</td>\n      <td>5</td>\n      <td>[2, 3, 0, 1, -1]</td>\n    </tr>\n    <tr>\n      <th>33</th>\n      <td>ps_car_12</td>\n      <td>float64</td>\n      <td>132</td>\n      <td>0.4179712909, 0.316227766, 0.4472135954999999,...</td>\n    </tr>\n    <tr>\n      <th>34</th>\n      <td>ps_car_13</td>\n      <td>float64</td>\n      <td>26545</td>\n      <td>0.9635398751, 0.5817649122999999, 0.719029994,...</td>\n    </tr>\n    <tr>\n      <th>35</th>\n      <td>ps_car_14</td>\n      <td>float64</td>\n      <td>731</td>\n      <td>0.3657868232, 0.3807886553, 0.4062019202, 0.33...</td>\n    </tr>\n    <tr>\n      <th>36</th>\n      <td>ps_car_15</td>\n      <td>float64</td>\n      <td>15</td>\n      <td>3.4641016151, 2.4494897428, 2.6457513111, 3.60...</td>\n    </tr>\n    <tr>\n      <th>37</th>\n      <td>ps_calc_01</td>\n      <td>float64</td>\n      <td>10</td>\n      <td>0.9, 0.2, 0.6, 0.3, 0.5, 0.4, 0.1, 0.7, 0.8, 0...</td>\n    </tr>\n    <tr>\n      <th>38</th>\n      <td>ps_calc_02</td>\n      <td>float64</td>\n      <td>10</td>\n      <td>0.6, 0.3, 0.4, 0.1, 0.8, 0.0, 0.2, 0.7, 0.5, 0...</td>\n    </tr>\n    <tr>\n      <th>39</th>\n      <td>ps_calc_03</td>\n      <td>float64</td>\n      <td>10</td>\n      <td>0.6, 0.0, 0.9, 0.3, 0.1, 0.7, 0.5, 0.8, 0.2, 0...</td>\n    </tr>\n    <tr>\n      <th>40</th>\n      <td>ps_calc_04</td>\n      <td>int64</td>\n      <td>6</td>\n      <td>[2, 1, 4, 3, 0, 5]</td>\n    </tr>\n    <tr>\n      <th>41</th>\n      <td>ps_calc_05</td>\n      <td>int64</td>\n      <td>7</td>\n      <td>[3, 0, 1, 2, 5, 4, 6]</td>\n    </tr>\n    <tr>\n      <th>42</th>\n      <td>ps_calc_06</td>\n      <td>int64</td>\n      <td>10</td>\n      <td>9, 7, 6, 10, 8, 5, 4, 3, 2, 1, ...</td>\n    </tr>\n    <tr>\n      <th>43</th>\n      <td>ps_calc_07</td>\n      <td>int64</td>\n      <td>10</td>\n      <td>5, 3, 4, 1, 2, 6, 0, 7, 8, 9, ...</td>\n    </tr>\n    <tr>\n      <th>44</th>\n      <td>ps_calc_08</td>\n      <td>int64</td>\n      <td>11</td>\n      <td>8, 12, 9, 11, 7, 10, 5, 6, 4, 3, ...</td>\n    </tr>\n    <tr>\n      <th>45</th>\n      <td>ps_calc_09</td>\n      <td>int64</td>\n      <td>8</td>\n      <td>[2, 5, 4, 3, 1, 0, 6, 7]</td>\n    </tr>\n    <tr>\n      <th>46</th>\n      <td>ps_calc_10</td>\n      <td>int64</td>\n      <td>24</td>\n      <td>13, 7, 9, 14, 6, 5, 8, 11, 12, 10, ...</td>\n    </tr>\n    <tr>\n      <th>47</th>\n      <td>ps_calc_11</td>\n      <td>int64</td>\n      <td>17</td>\n      <td>4, 9, 6, 2, 3, 10, 8, 12, 7, 5, ...</td>\n    </tr>\n    <tr>\n      <th>48</th>\n      <td>ps_calc_12</td>\n      <td>int64</td>\n      <td>9</td>\n      <td>[3, 0, 1, 2, 6, 5, 4, 7, 8]</td>\n    </tr>\n    <tr>\n      <th>49</th>\n      <td>ps_calc_13</td>\n      <td>int64</td>\n      <td>14</td>\n      <td>4, 2, 1, 5, 13, 7, 3, 0, 6, 8, ...</td>\n    </tr>\n    <tr>\n      <th>50</th>\n      <td>ps_calc_14</td>\n      <td>int64</td>\n      <td>23</td>\n      <td>6, 12, 7, 10, 14, 9, 13, 11, 8, 3, ...</td>\n    </tr>\n  </tbody>\n</table>\n</div>"
     },
     "execution_count": 63,
     "metadata": {},
     "output_type": "execute_result"
    }
   ],
   "source": [
    "c_info[c_info['Unique_count'] > 2]"
   ],
   "metadata": {
    "collapsed": false,
    "ExecuteTime": {
     "end_time": "2023-12-16T17:22:51.571343300Z",
     "start_time": "2023-12-16T17:22:51.560197600Z"
    }
   }
  },
  {
   "cell_type": "markdown",
   "source": [
    "_Из таблицы видим, что столбцы с типом float содержат значения, которые могут что-то означать, а не просто соответствуют каким-то категориям. А вот в целочисленных столбцах количество значений невелико, по сравнению с размером датасета, что может говорить и категориальном характере таких значений (даже столбец ps_car_11_cat, содержащий 104 уникальных значения, помечен словом 'cat', т.е. он категориальный)_\n",
    "\n",
    "__Таким образом, категориальными столбцами будем считать те, у которых тип int64 и количество уникальных значений больше 2__"
   ],
   "metadata": {
    "collapsed": false
   }
  },
  {
   "cell_type": "code",
   "execution_count": 64,
   "outputs": [
    {
     "name": "stdout",
     "output_type": "stream",
     "text": [
      "Необходимо закодировать 28 столбцов\n"
     ]
    }
   ],
   "source": [
    "cat_columns = list(c_info[(c_info['Type'] == 'int64') & (c_info['Unique_count'] > 2)]['Col'])\n",
    "print(f'Необходимо закодировать {len(cat_columns)} столбцов')"
   ],
   "metadata": {
    "collapsed": false,
    "ExecuteTime": {
     "end_time": "2023-12-16T17:22:59.962492700Z",
     "start_time": "2023-12-16T17:22:59.948777100Z"
    }
   }
  },
  {
   "cell_type": "code",
   "execution_count": 65,
   "outputs": [],
   "source": [
    "from sklearn.preprocessing import OneHotEncoder\n",
    "one_hot_encoder = OneHotEncoder(drop='first', handle_unknown='ignore', sparse_output = False)\n",
    "one_hot_encoder = one_hot_encoder.fit(X_train[cat_columns])\n",
    "encoded_cat_columns = one_hot_encoder.get_feature_names_out(cat_columns)\n",
    "\n",
    "X_train_ohe = pd.concat(\n",
    "    [\n",
    "        X_train.drop(cat_columns, axis=1).reset_index(drop=True),\n",
    "        pd.DataFrame(one_hot_encoder.transform(X_train[cat_columns]), columns = encoded_cat_columns).reset_index(drop=True)\n",
    "    ],\n",
    "    axis=1\n",
    ")\n",
    "\n",
    "X_test_ohe = pd.concat(\n",
    "    [\n",
    "        X_test.drop(cat_columns, axis=1).reset_index(drop=True), \n",
    "        pd.DataFrame(one_hot_encoder.transform(X_test[cat_columns]), columns = encoded_cat_columns).reset_index(drop=True)\n",
    "    ],\n",
    "    axis=1\n",
    ")"
   ],
   "metadata": {
    "collapsed": false,
    "ExecuteTime": {
     "end_time": "2023-12-16T17:23:08.617100600Z",
     "start_time": "2023-12-16T17:23:07.457504800Z"
    }
   }
  },
  {
   "cell_type": "code",
   "execution_count": 69,
   "outputs": [
    {
     "name": "stdout",
     "output_type": "stream",
     "text": [
      "В результате OneHot-кодирования получилось 363 признака\n"
     ]
    }
   ],
   "source": [
    "print(f\"В результате OneHot-кодирования получилось {X_train_ohe.shape[1]} признака\")"
   ],
   "metadata": {
    "collapsed": false,
    "ExecuteTime": {
     "end_time": "2023-12-16T17:23:55.777817400Z",
     "start_time": "2023-12-16T17:23:55.763242300Z"
    }
   }
  },
  {
   "cell_type": "code",
   "execution_count": 71,
   "outputs": [
    {
     "name": "stdout",
     "output_type": "stream",
     "text": [
      "ROC-AUC: 0.6314239662925052\n",
      "CPU times: total: 7.36 s\n",
      "Wall time: 9.59 s\n"
     ]
    }
   ],
   "source": [
    "%%time\n",
    "model.fit(X_train_ohe, y_train)\n",
    "print(\"ROC-AUC:\", roc_auc_score(y_test, model.predict_proba(X_test_ohe)[:,1]))"
   ],
   "metadata": {
    "collapsed": false,
    "ExecuteTime": {
     "end_time": "2023-12-16T17:26:02.410698600Z",
     "start_time": "2023-12-16T17:25:52.812526900Z"
    }
   }
  },
  {
   "cell_type": "markdown",
   "source": [
    "__Заметим, что после OneHot-кодирования время обучения модели увеличилось, но заметно возросло и качество классификации (0.631 против 0.515)__"
   ],
   "metadata": {
    "collapsed": false
   }
  },
  {
   "cell_type": "markdown",
   "metadata": {},
   "source": [
    "Как можно было заменить, one-hot-кодирование сильно увилечивает количество признаков в датасете, что сказывается на памяти, особенно, если некоторый признак имеет большое количество значений. Эту проблему решает другой способ кодирование категориальных признаков — счётчики. Основная идея в том, что нам важны не сами категории, а значения целевой переменной, которые имеют объекты этой категории. Каждый категориальный признак мы заменим средним значением целевой переменной по всем объектам этой же категории:\n",
    "$$\n",
    "g_j(x, X) = \\frac{\\sum_{i=1}^{l} [f_j(x) = f_j(x_i)][y_i = +1]}{\\sum_{i=1}^{l} [f_j(x) = f_j(x_i)]}\n",
    "$$\n",
    "\n",
    "__Задание 7 (1.5 балла).__ Закодируйте категориальные переменные с помощью счётчиков (ровно так, как описано выше, без каких-либо хитростей). Обучите логистическую регрессию и посмотрите на качество модели на тестовом множестве. Сравните время обучения с предыдущим экспериментом. Заметили ли вы что-то интересное?\n"
   ]
  },
  {
   "cell_type": "code",
   "execution_count": 117,
   "metadata": {
    "ExecuteTime": {
     "end_time": "2023-12-16T17:35:08.501922100Z",
     "start_time": "2023-12-16T17:35:08.432759700Z"
    }
   },
   "outputs": [],
   "source": [
    "X_train_counter_encoded = X_train.copy()\n",
    "X_test_counter_encoded = X_test.copy()"
   ]
  },
  {
   "cell_type": "code",
   "execution_count": 118,
   "outputs": [],
   "source": [
    "X_train_counter_encoded[cat_columns] = 0\n",
    "X_test_counter_encoded[cat_columns] = 0\n",
    "for col in cat_columns:\n",
    "    unique_values = X_train[col].unique() \n",
    "    for unique_value in unique_values:\n",
    "        unique_value_filter = (X_train[col] == unique_value)\n",
    "        encoded_value = (unique_value_filter & (y_train == 1)).sum() / unique_value_filter.sum()\n",
    "        X_train_counter_encoded[col] = np.where(X_train[col] == unique_value, encoded_value, X_train_counter_encoded[col])\n",
    "        X_test_counter_encoded[col] = np.where(X_test[col] == unique_value, encoded_value, X_test_counter_encoded[col])"
   ],
   "metadata": {
    "collapsed": false,
    "ExecuteTime": {
     "end_time": "2023-12-16T17:35:10.409229700Z",
     "start_time": "2023-12-16T17:35:10.114810700Z"
    }
   }
  },
  {
   "cell_type": "code",
   "execution_count": 120,
   "outputs": [
    {
     "name": "stdout",
     "output_type": "stream",
     "text": [
      "ROC-AUC: 0.6052679007158578\n",
      "CPU times: total: 1.11 s\n",
      "Wall time: 3.04 s\n"
     ]
    }
   ],
   "source": [
    "%%time\n",
    "model.fit(X_train_counter_encoded, y_train)\n",
    "print(\"ROC-AUC:\", roc_auc_score(y_test, model.predict_proba(X_test_counter_encoded)[:,1]))"
   ],
   "metadata": {
    "collapsed": false,
    "ExecuteTime": {
     "end_time": "2023-12-16T17:35:38.742602400Z",
     "start_time": "2023-12-16T17:35:35.696960800Z"
    }
   }
  },
  {
   "cell_type": "markdown",
   "source": [
    "__Видно что время обучения модели сократилось почти втрое, но также несколько уменьшилось и качество (ROC-AUC 0.605 против 0.631)__"
   ],
   "metadata": {
    "collapsed": false
   }
  },
  {
   "cell_type": "markdown",
   "metadata": {},
   "source": [
    "Отметим, что такие признаки сами по себе являются классификаторами и, обучаясь на них, мы допускаем \"утечку\" целевой переменной в признаки. Это ведёт к переобучению, поэтому считать такие признаки необходимо так, чтобы при вычислении для конкретного объекта его целевая метка не использовалась. Это можно делать следующими способами:\n",
    "1. Вычислять значение счётчика по всем объектам расположенным выше в датасете (например, если у нас выборка отсортирована по времени).\n",
    "2. Вычислять по фолдам, то есть делить выборку на некоторое количество частей и подсчитывать значение признаков по всем фолдам кроме текущего (как делается в кросс-валидации).\n",
    "3. Внесение некоторого шума в посчитанные признаки. \n",
    "\n",
    "__Задание 8 (1 балл)__. Реализуйте корректное вычисление счётчиков самым простым способом — добавление шума к значениям (необходимо соблюсти баланс между избавление от переобучения и полезностью признаков). Снова обучите логистическую регрессию, оцените качество. Сделайте выводы.\n"
   ]
  },
  {
   "cell_type": "markdown",
   "source": [
    "_В качестве шума добавим нормально распределенную случайную величину с мат.ожиданием в 0 и стандартным отклонением в 0.001 (о разныъх способах добавления шума можно почитать [здесь](https://medium.com/@ms_somanna/guide-to-adding-noise-to-your-data-using-python-and-numpy-c8be815df524))_"
   ],
   "metadata": {
    "collapsed": false
   }
  },
  {
   "cell_type": "code",
   "execution_count": 121,
   "metadata": {
    "ExecuteTime": {
     "end_time": "2023-12-16T17:38:00.280667100Z",
     "start_time": "2023-12-16T17:38:00.065242300Z"
    }
   },
   "outputs": [],
   "source": [
    "X_train_noisy_counter_encoded = X_train_counter_encoded.copy()\n",
    "X_test_noisy_counter_encoded = X_test_counter_encoded.copy()\n",
    "\n",
    "noise_m, noise_std = 0, 0.01\n",
    "train_noize = np.random.normal(noise_m, noise_std, (X_train.shape[0], len(cat_columns)))\n",
    "test_noize = np.random.normal(noise_m, noise_std, (X_test.shape[0], len(cat_columns)))\n",
    "\n",
    "X_train_noisy_counter_encoded[cat_columns] = X_train_noisy_counter_encoded[cat_columns] + train_noize \n",
    "X_test_noisy_counter_encoded[cat_columns] = X_test_noisy_counter_encoded[cat_columns] + test_noize "
   ]
  },
  {
   "cell_type": "code",
   "execution_count": 122,
   "outputs": [
    {
     "name": "stdout",
     "output_type": "stream",
     "text": [
      "ROC-AUC: 0.6052398951154545\n",
      "CPU times: total: 953 ms\n",
      "Wall time: 2.68 s\n"
     ]
    }
   ],
   "source": [
    "%%time\n",
    "model.fit(X_train_noisy_counter_encoded, y_train)\n",
    "print(\"ROC-AUC:\", roc_auc_score(y_test, model.predict_proba(X_test_noisy_counter_encoded)[:,1]))"
   ],
   "metadata": {
    "collapsed": false,
    "ExecuteTime": {
     "end_time": "2023-12-16T17:38:05.226629100Z",
     "start_time": "2023-12-16T17:38:02.544913100Z"
    }
   }
  },
  {
   "cell_type": "markdown",
   "source": [
    "__Добавление шума практически не повлияло на качество результатов модели (ROC-AUC отличается только в 5м знаке после запятой)__"
   ],
   "metadata": {
    "collapsed": false
   }
  },
  {
   "cell_type": "markdown",
   "metadata": {},
   "source": [
    "## Часть 3. Отбор признаков (3 балла + 1 бонус)"
   ]
  },
  {
   "cell_type": "markdown",
   "metadata": {},
   "source": [
    "Важной частью процесса построения модели является отбор признаков. На практике многие признаки оказывают малое влияние на модель (при этом они увеличивают время вычислений) или даже негативно сказываются на качестве модели. Попробуем несколько подходов отбора признаков, оценим, как они влияют на качество модели и сколько времени занимают.\n",
    "\n",
    "Обратимся к тому же датасету про обращение клиентов по страховым случаям. Обойдёмся без сэмплирования объектов."
   ]
  },
  {
   "cell_type": "code",
   "execution_count": 123,
   "metadata": {
    "ExecuteTime": {
     "end_time": "2023-12-16T17:39:44.633713800Z",
     "start_time": "2023-12-16T17:39:43.182801600Z"
    }
   },
   "outputs": [],
   "source": [
    "data = pd.read_csv('train.csv', index_col=0)\n",
    "target = data.target.values\n",
    "data = data.drop('target', axis=1)\n",
    "X_train, X_test, y_train, y_test = train_test_split(data, target, test_size=0.2, random_state=124)"
   ]
  },
  {
   "cell_type": "markdown",
   "metadata": {},
   "source": [
    "Как вы помните, в данных много категориальных признаков. Давайте закодируем их с помощью one-hot кодирования. Исходные колонки с категориальными признаками можно удалить. Сколько признаков мы получили?"
   ]
  },
  {
   "cell_type": "code",
   "execution_count": 124,
   "outputs": [
    {
     "name": "stdout",
     "output_type": "stream",
     "text": [
      "Количество категориальных признаков, определенных по сформулированному ранее критерию \n",
      "(целочисленные с более, чем двумя уникальными значениями), но на новой выборке составило 29\n"
     ]
    }
   ],
   "source": [
    "X_train_int =  X_train.select_dtypes(include=['int'])\n",
    "cat_columns = X_train_int.columns[X_train_int.nunique() > 2]\n",
    "print(f\"Количество категориальных признаков, определенных по сформулированному ранее критерию \\n\"\n",
    "      f\"(целочисленные с более, чем двумя уникальными значениями), но на новой выборке составило {len(cat_columns)}\")"
   ],
   "metadata": {
    "collapsed": false,
    "ExecuteTime": {
     "end_time": "2023-12-16T17:39:47.941294800Z",
     "start_time": "2023-12-16T17:39:47.803381500Z"
    }
   }
  },
  {
   "cell_type": "code",
   "execution_count": 125,
   "metadata": {
    "ExecuteTime": {
     "end_time": "2023-12-16T17:39:59.174992200Z",
     "start_time": "2023-12-16T17:39:55.616935700Z"
    }
   },
   "outputs": [
    {
     "name": "stdout",
     "output_type": "stream",
     "text": [
      "После OneHot-кодирования число признаков составило: 372\n"
     ]
    }
   ],
   "source": [
    "one_hot_encoder = OneHotEncoder(drop='first', handle_unknown='ignore', sparse_output = False)\n",
    "one_hot_encoder = one_hot_encoder.fit(X_train[cat_columns])\n",
    "encoded_cat_columns = one_hot_encoder.get_feature_names_out(cat_columns)\n",
    "\n",
    "\n",
    "X_train_ohe = pd.concat(\n",
    "    [\n",
    "        X_train.drop(cat_columns, axis=1).reset_index(drop=True),\n",
    "        pd.DataFrame(one_hot_encoder.transform(X_train[cat_columns]), columns = encoded_cat_columns).reset_index(drop=True)\n",
    "    ],\n",
    "    axis=1\n",
    ")\n",
    "\n",
    "X_test_ohe = pd.concat(\n",
    "    [\n",
    "        X_test.drop(cat_columns, axis=1).reset_index(drop=True), \n",
    "        pd.DataFrame(one_hot_encoder.transform(X_test[cat_columns]), columns = encoded_cat_columns).reset_index(drop=True)\n",
    "    ],\n",
    "    axis=1\n",
    ")\n",
    "\n",
    "print(f\"После OneHot-кодирования число признаков составило: {X_train_ohe.shape[1]}\")"
   ]
  },
  {
   "cell_type": "markdown",
   "metadata": {},
   "source": [
    "В качестве основной модели будем использовать логистическую регрессию, а целевой метрики — ROC-AUC. Обучите модель и посчитайте качество на тестовой выборке. Давайте запомним полученное значение."
   ]
  },
  {
   "cell_type": "code",
   "execution_count": 141,
   "outputs": [
    {
     "name": "stdout",
     "output_type": "stream",
     "text": [
      "0.5810063409133274\n",
      "CPU times: total: 5.55 s\n",
      "Wall time: 7.01 s\n"
     ]
    }
   ],
   "source": [
    "%%time\n",
    "model = LogReg(gd_type='stochastic', use_epochs=True, batch_size=32, max_iter=50, eta=1)\n",
    "model.fit(X_train_ohe, y_train)\n",
    "print(roc_auc_score(y_test, model.predict_proba(X_test_ohe)[:,1]))"
   ],
   "metadata": {
    "collapsed": false,
    "ExecuteTime": {
     "end_time": "2023-12-16T17:48:25.552247400Z",
     "start_time": "2023-12-16T17:48:18.542489Z"
    }
   }
  },
  {
   "cell_type": "markdown",
   "source": [
    "Для сравнения обучим и посмотрим на качество модели логистической регрессии из scikit-learn "
   ],
   "metadata": {
    "collapsed": false
   }
  },
  {
   "cell_type": "code",
   "execution_count": 127,
   "outputs": [
    {
     "name": "stdout",
     "output_type": "stream",
     "text": [
      "0.6378010522128695\n"
     ]
    }
   ],
   "source": [
    "from sklearn.linear_model import LogisticRegression\n",
    "bm = LogisticRegression().fit(X_train_ohe, y_train)\n",
    "print(roc_auc_score(y_test, bm.predict_proba(X_test_ohe)[:,1]))"
   ],
   "metadata": {
    "collapsed": false,
    "ExecuteTime": {
     "end_time": "2023-12-16T17:42:29.289232700Z",
     "start_time": "2023-12-16T17:42:14.805342500Z"
    }
   }
  },
  {
   "cell_type": "markdown",
   "source": [
    "Видим, что здесь оно несколько выше, но все же сравнимо с самописным методом градиентного спуска"
   ],
   "metadata": {
    "collapsed": false
   }
  },
  {
   "cell_type": "markdown",
   "metadata": {},
   "source": [
    "### Встроенные методы"
   ]
  },
  {
   "cell_type": "markdown",
   "metadata": {},
   "source": [
    "Допустим, мы хотим оставить только 200 лучших признаков. Попробуем сделать это несколькими способами.\n",
    "\n",
    "Начнём с отборам признаков с помощью линейной модели. Как известно, веса линейной модели означают вклад каждого признака в предсказание модели, а значит, модуль этого вклада можно интерпретировать как важность признаков. Такой метод отбора называются встроенным или embedded methods, так как он заложен в особенности модели.\n",
    "\n",
    "__Задание 10 (1 балл).__ Оставьте 200 признаков с наибольшим модулем соответсвующего параметра линейной модели. Обучите модели заново и оцените её качество. Замерьте скорость такого отбора признаков.\n",
    "\n",
    "Изменилось ли качество? Как?"
   ]
  },
  {
   "cell_type": "code",
   "execution_count": 144,
   "metadata": {
    "ExecuteTime": {
     "end_time": "2023-12-16T17:51:35.247029600Z",
     "start_time": "2023-12-16T17:51:35.013903700Z"
    }
   },
   "outputs": [],
   "source": [
    "\"\"\"Возьмем 200 признаков, веса для которых в нашей модели были максимальными\"\"\"\n",
    "sorted_weights_info = pd.DataFrame({'feature_name': X_train_ohe.columns, 'feature_weight': abs(model.coef_)}).sort_values('feature_weight', ascending=False)\n",
    "top_200_features = sorted_weights_info['feature_name'].head(200).tolist()\n",
    "X_train_ohe_200_features = X_train_ohe[top_200_features]\n",
    "X_test_ohe_200_features = X_test_ohe[top_200_features]"
   ]
  },
  {
   "cell_type": "code",
   "execution_count": 145,
   "outputs": [
    {
     "name": "stdout",
     "output_type": "stream",
     "text": [
      "0.5810479818795105\n",
      "CPU times: total: 3.03 s\n",
      "Wall time: 4.48 s\n"
     ]
    }
   ],
   "source": [
    "%%time\n",
    "model = LogReg(gd_type='stochastic', use_epochs=True, batch_size=32, max_iter=50, eta=1)\n",
    "model.fit(X_train_ohe_200_features, y_train)\n",
    "print(roc_auc_score(y_test, model.predict_proba(X_test_ohe_200_features)[:,1]))"
   ],
   "metadata": {
    "collapsed": false,
    "ExecuteTime": {
     "end_time": "2023-12-16T17:52:06.599710500Z",
     "start_time": "2023-12-16T17:52:02.151053900Z"
    }
   }
  },
  {
   "cell_type": "markdown",
   "source": [
    "__Заметных изменений качества мы не заметили, но зато примерно на 30 процентов сократилось время обучения модели__"
   ],
   "metadata": {
    "collapsed": false
   }
  },
  {
   "cell_type": "markdown",
   "metadata": {},
   "source": [
    "А теперь давайте подумаем, что мы не учли. Мы предположили, что признаки вносят вклад равномерно, но не учли их масштаба. Если мы умножим один из признаков в 100 раз, то без учёта регуляризации его вес уменьшится в эти же 100 раз. А мы на основе этого отбираем признаки! Давайте сначала отнормируем признаки одним из способов, а только потом будем удалять признаки. \n",
    "\n",
    "Кстати, в таком случае надо пересчитать качество на всех признаках (сделайте это ниже). Если вы сделали нормирование признаков в самом начале, то попробуйте отобрать признаки на неотмасштабированных данных.\n",
    "\n",
    "Что получилось?"
   ]
  },
  {
   "cell_type": "code",
   "execution_count": 146,
   "metadata": {
    "ExecuteTime": {
     "end_time": "2023-12-16T17:54:40.892505300Z",
     "start_time": "2023-12-16T17:54:37.808337900Z"
    }
   },
   "outputs": [],
   "source": [
    "\"\"\"Нормируем признаки\"\"\"\n",
    "from sklearn.preprocessing import StandardScaler\n",
    "\n",
    "scaler = StandardScaler()\n",
    "scaler.fit(X_train_ohe)\n",
    "X_train_ohe_scaled = pd.DataFrame(scaler.transform(X_train_ohe))\n",
    "X_test_ohe_scaled = pd.DataFrame(scaler.transform(X_test_ohe))"
   ]
  },
  {
   "cell_type": "code",
   "execution_count": 165,
   "outputs": [
    {
     "name": "stdout",
     "output_type": "stream",
     "text": [
      "0.5269506861098603\n",
      "CPU times: total: 6.84 s\n",
      "Wall time: 6.94 s\n"
     ]
    }
   ],
   "source": [
    "%%time\n",
    "\"\"\"Обучаем модель на нормированных признаках\"\"\"\n",
    "model = LogReg(gd_type='stochastic', use_epochs=True, batch_size=16, max_iter=50, eta=0.01)\n",
    "model.fit(X_train_ohe_scaled, y_train)\n",
    "print(roc_auc_score(y_test, model.predict_proba(X_test_ohe_scaled)[:,1]))"
   ],
   "metadata": {
    "collapsed": false,
    "ExecuteTime": {
     "end_time": "2023-12-16T18:00:56.776465200Z",
     "start_time": "2023-12-16T18:00:49.892497500Z"
    }
   }
  },
  {
   "cell_type": "markdown",
   "source": [
    "__В результате нормирования признаков качество модели, к сожалению, несколько упало. Попытки подобрать размер батча, скорость обучения или количество итераций не привели к принципиальному улучшению результата.__"
   ],
   "metadata": {
    "collapsed": false
   }
  },
  {
   "cell_type": "code",
   "execution_count": 166,
   "outputs": [],
   "source": [
    "\"\"\"По обученной модели отбираем 200 наиболее значимых признаков\"\"\"\n",
    "sorted_weights_info = pd.DataFrame({'feature_name': X_train_ohe_scaled.columns, 'feature_weight': abs(model.coef_)}).sort_values('feature_weight', ascending=False)\n",
    "top_200_features = sorted_weights_info['feature_name'].head(200).tolist()\n",
    "X_train_ohe_scaled_200_features = X_train_ohe_scaled[top_200_features]\n",
    "X_test_ohe_scaled_200_features = X_test_ohe_scaled[top_200_features]"
   ],
   "metadata": {
    "collapsed": false,
    "ExecuteTime": {
     "end_time": "2023-12-16T18:01:21.437058Z",
     "start_time": "2023-12-16T18:01:21.212561400Z"
    }
   }
  },
  {
   "cell_type": "code",
   "execution_count": 167,
   "outputs": [
    {
     "name": "stdout",
     "output_type": "stream",
     "text": [
      "0.5266878590310349\n",
      "CPU times: total: 2.34 s\n",
      "Wall time: 4.58 s\n"
     ]
    }
   ],
   "source": [
    "%%time\n",
    "\"\"\"Обучаем модель с 200 наиболее значимыми нормированными признаками\"\"\"\n",
    "model = LogReg(gd_type='stochastic', use_epochs=True, batch_size=32, max_iter=50, eta=0.01)\n",
    "model.fit(X_train_ohe_scaled_200_features, y_train)\n",
    "print(roc_auc_score(y_test, model.predict_proba(X_test_ohe_scaled_200_features)[:,1]))"
   ],
   "metadata": {
    "collapsed": false,
    "ExecuteTime": {
     "end_time": "2023-12-16T18:01:46.865573500Z",
     "start_time": "2023-12-16T18:01:42.334006200Z"
    }
   }
  },
  {
   "cell_type": "markdown",
   "source": [
    "__Обучение модели на топ 200 значимых признаках происходит быстрее, но не приводит к заметному изменению качества модели__"
   ],
   "metadata": {
    "collapsed": false
   }
  },
  {
   "cell_type": "markdown",
   "metadata": {},
   "source": [
    "__Задание 10 (0.5 балла).__\n",
    "Можно задать отбор признаков более функционально. Вспомним, что L1-регуляризация также умеет отбирать признаки. Понятно, что теперь нам будет сложнее оставить именно 200 лучших признаков, но возможно они нам и не нужны. Подберите коэффициент регуляризации и проверьте, как изменилось качество. Получилось ли добиться лучшего качества при менее чем 200 признаках?"
   ]
  },
  {
   "cell_type": "code",
   "execution_count": 172,
   "metadata": {
    "ExecuteTime": {
     "end_time": "2023-12-16T18:14:19.049323200Z",
     "start_time": "2023-12-16T18:11:30.454333Z"
    }
   },
   "outputs": [
    {
     "name": "stdout",
     "output_type": "stream",
     "text": [
      "CPU times: total: 56.5 s\n",
      "Wall time: 2min 48s\n"
     ]
    },
    {
     "data": {
      "text/plain": "LogisticRegression(C=0.005, penalty='l1', solver='saga')",
      "text/html": "<style>#sk-container-id-1 {color: black;}#sk-container-id-1 pre{padding: 0;}#sk-container-id-1 div.sk-toggleable {background-color: white;}#sk-container-id-1 label.sk-toggleable__label {cursor: pointer;display: block;width: 100%;margin-bottom: 0;padding: 0.3em;box-sizing: border-box;text-align: center;}#sk-container-id-1 label.sk-toggleable__label-arrow:before {content: \"▸\";float: left;margin-right: 0.25em;color: #696969;}#sk-container-id-1 label.sk-toggleable__label-arrow:hover:before {color: black;}#sk-container-id-1 div.sk-estimator:hover label.sk-toggleable__label-arrow:before {color: black;}#sk-container-id-1 div.sk-toggleable__content {max-height: 0;max-width: 0;overflow: hidden;text-align: left;background-color: #f0f8ff;}#sk-container-id-1 div.sk-toggleable__content pre {margin: 0.2em;color: black;border-radius: 0.25em;background-color: #f0f8ff;}#sk-container-id-1 input.sk-toggleable__control:checked~div.sk-toggleable__content {max-height: 200px;max-width: 100%;overflow: auto;}#sk-container-id-1 input.sk-toggleable__control:checked~label.sk-toggleable__label-arrow:before {content: \"▾\";}#sk-container-id-1 div.sk-estimator input.sk-toggleable__control:checked~label.sk-toggleable__label {background-color: #d4ebff;}#sk-container-id-1 div.sk-label input.sk-toggleable__control:checked~label.sk-toggleable__label {background-color: #d4ebff;}#sk-container-id-1 input.sk-hidden--visually {border: 0;clip: rect(1px 1px 1px 1px);clip: rect(1px, 1px, 1px, 1px);height: 1px;margin: -1px;overflow: hidden;padding: 0;position: absolute;width: 1px;}#sk-container-id-1 div.sk-estimator {font-family: monospace;background-color: #f0f8ff;border: 1px dotted black;border-radius: 0.25em;box-sizing: border-box;margin-bottom: 0.5em;}#sk-container-id-1 div.sk-estimator:hover {background-color: #d4ebff;}#sk-container-id-1 div.sk-parallel-item::after {content: \"\";width: 100%;border-bottom: 1px solid gray;flex-grow: 1;}#sk-container-id-1 div.sk-label:hover label.sk-toggleable__label {background-color: #d4ebff;}#sk-container-id-1 div.sk-serial::before {content: \"\";position: absolute;border-left: 1px solid gray;box-sizing: border-box;top: 0;bottom: 0;left: 50%;z-index: 0;}#sk-container-id-1 div.sk-serial {display: flex;flex-direction: column;align-items: center;background-color: white;padding-right: 0.2em;padding-left: 0.2em;position: relative;}#sk-container-id-1 div.sk-item {position: relative;z-index: 1;}#sk-container-id-1 div.sk-parallel {display: flex;align-items: stretch;justify-content: center;background-color: white;position: relative;}#sk-container-id-1 div.sk-item::before, #sk-container-id-1 div.sk-parallel-item::before {content: \"\";position: absolute;border-left: 1px solid gray;box-sizing: border-box;top: 0;bottom: 0;left: 50%;z-index: -1;}#sk-container-id-1 div.sk-parallel-item {display: flex;flex-direction: column;z-index: 1;position: relative;background-color: white;}#sk-container-id-1 div.sk-parallel-item:first-child::after {align-self: flex-end;width: 50%;}#sk-container-id-1 div.sk-parallel-item:last-child::after {align-self: flex-start;width: 50%;}#sk-container-id-1 div.sk-parallel-item:only-child::after {width: 0;}#sk-container-id-1 div.sk-dashed-wrapped {border: 1px dashed gray;margin: 0 0.4em 0.5em 0.4em;box-sizing: border-box;padding-bottom: 0.4em;background-color: white;}#sk-container-id-1 div.sk-label label {font-family: monospace;font-weight: bold;display: inline-block;line-height: 1.2em;}#sk-container-id-1 div.sk-label-container {text-align: center;}#sk-container-id-1 div.sk-container {/* jupyter's `normalize.less` sets `[hidden] { display: none; }` but bootstrap.min.css set `[hidden] { display: none !important; }` so we also need the `!important` here to be able to override the default hidden behavior on the sphinx rendered scikit-learn.org. See: https://github.com/scikit-learn/scikit-learn/issues/21755 */display: inline-block !important;position: relative;}#sk-container-id-1 div.sk-text-repr-fallback {display: none;}</style><div id=\"sk-container-id-1\" class=\"sk-top-container\"><div class=\"sk-text-repr-fallback\"><pre>LogisticRegression(C=0.005, penalty=&#x27;l1&#x27;, solver=&#x27;saga&#x27;)</pre><b>In a Jupyter environment, please rerun this cell to show the HTML representation or trust the notebook. <br />On GitHub, the HTML representation is unable to render, please try loading this page with nbviewer.org.</b></div><div class=\"sk-container\" hidden><div class=\"sk-item\"><div class=\"sk-estimator sk-toggleable\"><input class=\"sk-toggleable__control sk-hidden--visually\" id=\"sk-estimator-id-1\" type=\"checkbox\" checked><label for=\"sk-estimator-id-1\" class=\"sk-toggleable__label sk-toggleable__label-arrow\">LogisticRegression</label><div class=\"sk-toggleable__content\"><pre>LogisticRegression(C=0.005, penalty=&#x27;l1&#x27;, solver=&#x27;saga&#x27;)</pre></div></div></div></div></div>"
     },
     "execution_count": 172,
     "metadata": {},
     "output_type": "execute_result"
    }
   ],
   "source": [
    "%%time\n",
    "\"\"\"Т.к. иных требований в задании не указано, для отбора признаков с помощью L1-регуляризации воспользуемся \n",
    "LogisticRegression из scikit-learn. После выбора признаков проверим качество уже на собственной реализации регрессии\n",
    "\n",
    "Т.к. обучение модели с L1-регуляризацией занимает довольно длительное время, подобрать коэффициент, \n",
    "влияющие на регуляризацию перебором по сетке не представляется возможным. В результате было проведено несколько \n",
    "попыток и получен более-менее подходящий коэффициент C=0.005)\n",
    "\"\"\"\n",
    "from sklearn.linear_model import LogisticRegression\n",
    "sklearn_logreg = LogisticRegression(solver='saga', penalty='l1', C=0.005)\n",
    "sklearn_logreg.fit(X_train_ohe_scaled, y_train)"
   ]
  },
  {
   "cell_type": "code",
   "execution_count": 173,
   "outputs": [
    {
     "name": "stdout",
     "output_type": "stream",
     "text": [
      "По результатам L1-регуляризации не занулились 121 признаков\n"
     ]
    }
   ],
   "source": [
    "\"\"\"Посмотрим на количество признаков, которые не занулила L1-регуляризация\"\"\"\n",
    "sorted_weights_info = pd.DataFrame({'feature_name': X_train_ohe_scaled.columns, 'feature_weight': abs(sklearn_logreg.coef_.T[:,0])}).sort_values('feature_weight', ascending=False)\n",
    "nonzero_weights_info =  sorted_weights_info[abs(sorted_weights_info['feature_weight']) > 0.0001]\n",
    "\n",
    "print(f\"По результатам L1-регуляризации не занулились {nonzero_weights_info.shape[0]} признаков\")"
   ],
   "metadata": {
    "collapsed": false,
    "ExecuteTime": {
     "end_time": "2023-12-16T18:14:46.742203100Z",
     "start_time": "2023-12-16T18:14:46.728151500Z"
    }
   }
  },
  {
   "cell_type": "code",
   "execution_count": 174,
   "outputs": [],
   "source": [
    "\"\"\"Оставим в датасете только незанулившиеся признаки\"\"\"\n",
    "valuable_features = nonzero_weights_info['feature_name'].tolist()\n",
    "X_train_ohe_scaled_l1_features = X_train_ohe_scaled[valuable_features]\n",
    "X_test_ohe_scaled_l1_features = X_test_ohe_scaled[valuable_features]"
   ],
   "metadata": {
    "collapsed": false,
    "ExecuteTime": {
     "end_time": "2023-12-16T18:15:15.373885100Z",
     "start_time": "2023-12-16T18:15:15.217104600Z"
    }
   }
  },
  {
   "cell_type": "code",
   "execution_count": 181,
   "outputs": [
    {
     "name": "stdout",
     "output_type": "stream",
     "text": [
      "0.564154575559272\n",
      "CPU times: total: 3.78 s\n",
      "Wall time: 5.91 s\n"
     ]
    }
   ],
   "source": [
    "%%time\n",
    "\"\"\"Обучим модель на новом составе признаков\"\"\"\n",
    "model = LogReg(gd_type='stochastic', use_epochs=True, batch_size=32, max_iter=100, eta=0.01)\n",
    "model.fit(X_train_ohe_scaled_l1_features, y_train)\n",
    "print(roc_auc_score(y_test, model.predict_proba(X_test_ohe_scaled_l1_features)[:,1]))"
   ],
   "metadata": {
    "collapsed": false,
    "ExecuteTime": {
     "end_time": "2023-12-16T18:17:00.104976600Z",
     "start_time": "2023-12-16T18:16:54.195158800Z"
    }
   }
  },
  {
   "cell_type": "markdown",
   "source": [
    "__В результате обучения модели на отобранных с помощью L1-регуляризации 121 признака удалось несколько повысить качество классификации модели (ROC-AUC 0.564 против 0.527)__"
   ],
   "metadata": {
    "collapsed": false
   }
  },
  {
   "cell_type": "markdown",
   "metadata": {},
   "source": [
    "### Методы фильтрации"
   ]
  },
  {
   "cell_type": "markdown",
   "metadata": {},
   "source": [
    "Давайте отбирать признаки умнее, а именно через подсчёт некоторой функции для каждого признака. На основании значений этой функции будем оставлять наиболее важные признаки. Методы этого семейства называют фильтрующими или  filter methods. \n",
    "\n",
    "В качестве такой функции будем считать t-статистику:\n",
    "\n",
    "$$t(x) = \\frac{|\\mu_+ - \\mu_-|}{\\sqrt{\\frac{n_+ \\sigma^2_+ + n_- \\sigma^2_-}{n_+ + n_-}}},$$\n",
    "\n",
    "где $mu$, $sigma$, $n$ соответственно среднее, среднеквадратичное отклонение и количество объектов каждого из классов.\n",
    "\n",
    "Если у вас был курс математической статистики, то вы без труда узнаете статистику гипотезы о разности средних при неизвестных дисперсиях. Если же нет, то интуиция следующая. Вообще мы хотим понять, различаются ли распределения признака для двух разных классов. Мы проверяем, что математические ожидания двух распределений различаются. Если они различаются, значит и сами распределения разные. Отсюда можно сделать вывод, что по этому признаку модель сможет отличить один класс от другого. А если распределения неотличимы и статистика маленькая, то и признак бесполезен. \n",
    "\n",
    "Важно оговориться, что хотя мы и не используем статистическое тестирование явно, предпосылки о том, что наблюдения независимы, одинаково распределены и n велико, должны соблюдаться, иначе статистика не имеет смысла. Но у нас большая выборка, поэтому они выполняются. По-хорошему, конечно, надо бы сравнивать статистику с пороговым значением t-распределения и полноценно тестировать гипотезу, но мы обойдёмся простой эвристикой и возьмём признаки с наибольшим значением.\n",
    "\n",
    "\n",
    "__Задание 11 (1 балл)__. Оставьте 200 признаков с наибольшим значением и замерьте качество. Не забудьте замерить скорость отбора признаков в этом случаев."
   ]
  },
  {
   "cell_type": "code",
   "execution_count": 186,
   "metadata": {
    "ExecuteTime": {
     "end_time": "2023-12-16T18:24:54.701515900Z",
     "start_time": "2023-12-16T18:24:50.557577Z"
    }
   },
   "outputs": [
    {
     "name": "stdout",
     "output_type": "stream",
     "text": [
      "CPU times: total: 1.59 s\n",
      "Wall time: 4.14 s\n"
     ]
    }
   ],
   "source": [
    "%%time\n",
    "\"\"\"Вычислим значение функции для признаков\"\"\"\n",
    "X_negative = X_train_ohe_scaled[y_train==0]\n",
    "X_positive = X_train_ohe_scaled[y_train==1]\n",
    "\n",
    "m_neg = np.mean(X_negative, axis = 0)\n",
    "m_pos = np.mean(X_positive, axis = 0)\n",
    "\n",
    "n_neg = X_negative.shape[0]\n",
    "n_pos = X_positive.shape[0]\n",
    "\n",
    "variance_neg = np.var(X_negative, axis = 0)\n",
    "variance_pos = np.var(X_positive, axis = 0)\n",
    "\n",
    "t = abs(m_pos - m_neg)/np.sqrt((n_pos * variance_pos + n_neg * variance_neg) / (n_neg + n_pos))\n",
    "\n",
    "\"\"\"Возьмем 200 наиболее значимых и оставим в датасете только их\"\"\"\n",
    "sorted_weights_info = pd.DataFrame({'feature_name': X_train_ohe_scaled.columns, 'feature_weight': t}).sort_values('feature_weight', ascending=False)\n",
    "top_200_features = sorted_weights_info['feature_name'].head(200).tolist()\n",
    "X_train_ohe_scaled_200_features = X_train_ohe_scaled[top_200_features]\n",
    "X_test_ohe_scaled_200_features = X_test_ohe_scaled[top_200_features]"
   ]
  },
  {
   "cell_type": "code",
   "execution_count": 187,
   "outputs": [
    {
     "name": "stdout",
     "output_type": "stream",
     "text": [
      "0.5545611037524515\n",
      "CPU times: total: 7.3 s\n",
      "Wall time: 7.83 s\n"
     ]
    }
   ],
   "source": [
    "%%time\n",
    "\"\"\"Обучим и оценим модель на полученной выборке\"\"\"\n",
    "model = LogReg(gd_type='stochastic', use_epochs=True, batch_size=32, max_iter=100,  eta=0.01)\n",
    "model.fit(X_train_ohe_scaled_200_features, y_train)\n",
    "print(roc_auc_score(y_test, model.predict_proba(X_test_ohe_scaled_200_features)[:,1]))"
   ],
   "metadata": {
    "collapsed": false,
    "ExecuteTime": {
     "end_time": "2023-12-16T18:25:08.550250400Z",
     "start_time": "2023-12-16T18:25:00.712412500Z"
    }
   }
  },
  {
   "cell_type": "markdown",
   "source": [
    "__В результате применения метода фильтрации признаков удалось несколько улучшить качество модели (ROC-AUC 0.555 против 0.527). При этом сам отбор занимает довольно мало времени - всего 4 секунды__"
   ],
   "metadata": {
    "collapsed": false
   }
  },
  {
   "cell_type": "markdown",
   "metadata": {},
   "source": [
    "### Методы-обёртки"
   ]
  },
  {
   "cell_type": "markdown",
   "metadata": {},
   "source": [
    "__Задание 12 (бонус, 1 балл)__.\n",
    "\n",
    "\n",
    "Заключительный из рассматриваемых нами методов работает следующим образом: мы исключаем по очереди один из признаков и смотрим, как это влияет на качество. Удаляем признаки таким жадным способом, пока не достигнем некоторого критерия (количество признаков или ухудшением качества).\n",
    "\n",
    "Заметим, что нельзя оценивать качество по тестовой выборке, иначе мы можем переобучиться, как, например, при настройке гиперпараметров. Разделите выборку на 2 части, на одной из них обучайте модель без одного из признаков,  на второй части оценивайте качество. Исходную тестовую выборку стоит использовать только на финальной оценке качества.\n",
    "\n",
    "Сделайте одну итерацию и прикиньте, сколько времени займёт такой отбор признаков. Кажется, что чересчур. Давайте возьмём маленький сэмпл данных (например, в 10 тысяч объектов), что сильно уменьшит время итерации. Теперь это долго, но уже приемлимо. \n",
    "\n",
    "Если это всё ещё долго для вашего комьютера, можете попробовать брать не по одному признаку, а сразу по пять (и удалять сразу тоже по 5). Для этого перед каждой итерацией удаления делите заново все признаки на группы по 5 штук.\n",
    "\n",
    "Снова оставьте только 200 признаков и оцените качество на тестовой выборке. Сколько времени занял такой отбор признаков?"
   ]
  },
  {
   "cell_type": "code",
   "execution_count": 188,
   "metadata": {
    "ExecuteTime": {
     "end_time": "2023-12-16T18:27:42.140933900Z",
     "start_time": "2023-12-16T18:27:41.147063300Z"
    }
   },
   "outputs": [],
   "source": [
    "\"\"\"разобьем тест на 2 части\"\"\"\n",
    "X_train1, X_test1, y_train1, y_test1 = train_test_split(\n",
    "    X_train_ohe_scaled, y_train, test_size=0.3, random_state=42)"
   ]
  },
  {
   "cell_type": "code",
   "execution_count": 190,
   "outputs": [
    {
     "name": "stdout",
     "output_type": "stream",
     "text": [
      "CPU times: total: 5 s\n",
      "Wall time: 5.72 s\n"
     ]
    }
   ],
   "source": [
    "%%time\n",
    "\"\"\"удалим произвольный признак и оценим время обучения модели\"\"\"\n",
    "X_temp = X_train1.drop(0, axis=1)\n",
    "l = LogReg(gd_type='stochastic', eta=0.01, use_epochs=True, batch_size=16, max_iter=50).fit(X_temp, y_train1)"
   ],
   "metadata": {
    "collapsed": false,
    "ExecuteTime": {
     "end_time": "2023-12-16T18:29:27.802254300Z",
     "start_time": "2023-12-16T18:29:22.075822200Z"
    }
   }
  },
  {
   "cell_type": "code",
   "execution_count": 192,
   "outputs": [
    {
     "name": "stdout",
     "output_type": "stream",
     "text": [
      "Время на обучение обучение модели после удаления одного признака составляет ~6 секунд\n",
      "Поэтому даже выбор одного признака для удаления займет примерно  47616.9 минут\n",
      "Сокращение же количества признаков до 200 займет как минимум на порядок больше\n"
     ]
    }
   ],
   "source": [
    "print(\"Время на обучение обучение модели после удаления одного признака составляет ~6 секунд\")\n",
    "print(f\"Поэтому даже выбор одного признака для удаления займет примерно  {6 * X_train_ohe_scaled.shape[0] / 60} минут\")\n",
    "print(\"Сокращение же количества признаков до 200 займет как минимум на порядок больше\")"
   ],
   "metadata": {
    "collapsed": false,
    "ExecuteTime": {
     "end_time": "2023-12-16T18:30:25.221352600Z",
     "start_time": "2023-12-16T18:30:25.209543200Z"
    }
   }
  },
  {
   "cell_type": "code",
   "execution_count": 194,
   "outputs": [],
   "source": [
    "\"\"\"возьмем семпл из 10 тыс. объектов\"\"\"\n",
    "np.random.seed(42)\n",
    "X_train_ohe_scaled_small = X_train_ohe_scaled.sample(10000)\n",
    "y_train_small = np.take(y_train, [*X_train_ohe_scaled_small.index])\n",
    "\n",
    "X_train1, X_test1, y_train1, y_test1 = train_test_split(\n",
    "    X_train_ohe_scaled_small, y_train_small, test_size=0.3, random_state=42)"
   ],
   "metadata": {
    "collapsed": false,
    "ExecuteTime": {
     "end_time": "2023-12-16T18:31:58.764226400Z",
     "start_time": "2023-12-16T18:31:58.564105500Z"
    }
   }
  },
  {
   "cell_type": "code",
   "execution_count": 204,
   "outputs": [
    {
     "name": "stdout",
     "output_type": "stream",
     "text": [
      "0.5380684868196315\n",
      "CPU times: total: 31.2 ms\n",
      "Wall time: 83.4 ms\n"
     ]
    }
   ],
   "source": [
    "%%time\n",
    "\"\"\"удалим произвольный признак и оценим время обучения модели\"\"\"\n",
    "X_temp = X_train1.drop(0, axis=1)\n",
    "X_temp_test = X_test1.drop(0, axis=1)\n",
    "\n",
    "l = LogReg(gd_type='stochastic', eta=0.01, use_epochs=True, batch_size=16, max_iter=30).fit(X_temp, y_train1)\n",
    "print(roc_auc_score(y_test1, l.predict_proba(X_temp_test)[:,1]))"
   ],
   "metadata": {
    "collapsed": false,
    "ExecuteTime": {
     "end_time": "2023-12-16T18:32:36.434607300Z",
     "start_time": "2023-12-16T18:32:36.348427200Z"
    }
   }
  },
  {
   "cell_type": "markdown",
   "source": [
    "На уменьшенной выборке время обучения одной модели уже кажется приемлемым для того, чтобы начать отбор признаков.  "
   ],
   "metadata": {
    "collapsed": false
   }
  },
  {
   "cell_type": "code",
   "execution_count": null,
   "outputs": [],
   "source": [
    "%%time\n",
    "\"\"\"воспользуемся описанным в задании алгоритмом отбора признаков путем \n",
    "удаления на каждой итерации одного из них\"\"\"\n",
    "target_feature_count = 200\n",
    "\n",
    "columns = list(X_train1.columns)\n",
    "X_train_0 = X_train1.copy()\n",
    "X_test_0 = X_test1.copy()\n",
    "\n",
    "while len(columns) > target_feature_count:\n",
    "    best_score = 0\n",
    "    column_to_drop = None\n",
    "    for col in columns:\n",
    "        X_train_i = X_train_0.drop(col, axis=1)\n",
    "        X_test_i = X_test_0.drop(col, axis=1)\n",
    "\n",
    "        m = LogReg(gd_type='stochastic', eta=0.01, use_epochs=True, batch_size=16, max_iter=30).fit(X_train_i, y_train1)\n",
    "        score = roc_auc_score(y_test1, m.predict_proba(X_test_i)[:, 1])\n",
    "        if score > best_score:\n",
    "            best_score = score\n",
    "            column_to_drop = col\n",
    "\n",
    "    columns.remove(column_to_drop)\n",
    "    X_train_0 = X_train_0[columns]\n",
    "    X_test_0 = X_test_0[columns]"
   ],
   "metadata": {
    "collapsed": false
   }
  },
  {
   "cell_type": "markdown",
   "source": [
    "_Из-за большого количества отладочной информации вывод результата работы ячейки с отбором был очищен, чтобы не засорять ноутбук. К сожалению, вместе с этим удалилось и время работы ячейки. :-(( Поскольку оно составляло 41 минуту, а возможности запустить повторно на текущий момент нет, я просто зафиксировал это значение здесь и ниже в таблице с итогами_"
   ],
   "metadata": {
    "collapsed": false
   }
  },
  {
   "cell_type": "code",
   "execution_count": 208,
   "outputs": [
    {
     "data": {
      "text/plain": "200"
     },
     "execution_count": 208,
     "metadata": {},
     "output_type": "execute_result"
    }
   ],
   "source": [
    "selected_columns = columns\n",
    "len(selected_columns)"
   ],
   "metadata": {
    "collapsed": false,
    "ExecuteTime": {
     "end_time": "2023-12-16T19:18:59.340597100Z",
     "start_time": "2023-12-16T19:18:59.324441800Z"
    }
   }
  },
  {
   "cell_type": "code",
   "execution_count": 211,
   "outputs": [
    {
     "name": "stdout",
     "output_type": "stream",
     "text": [
      "0.5328529178497974\n",
      "CPU times: total: 3.97 s\n",
      "Wall time: 5.03 s\n"
     ]
    }
   ],
   "source": [
    "%%time\n",
    "\"\"\"Теперь обучим модель на исходной (OneHot-кодированной и нормализованной) выборке, но у отобранными признаками \n",
    " и проверим качество на соответствующей тестовой выборке \"\"\"\n",
    "model = LogReg(gd_type='stochastic', eta=1, use_epochs=True, batch_size=16, max_iter=50)\n",
    "model.fit(X_train_ohe_scaled[selected_columns], y_train)\n",
    "print(roc_auc_score(y_test, model.predict_proba(X_test_ohe_scaled[selected_columns])[:,1]))"
   ],
   "metadata": {
    "collapsed": false,
    "ExecuteTime": {
     "end_time": "2023-12-16T19:22:10.001313100Z",
     "start_time": "2023-12-16T19:22:04.966491300Z"
    }
   }
  },
  {
   "cell_type": "markdown",
   "source": [
    "__Несмотря на то, что метрика качества модели, рассчитанная на усеченной выборке, по мере отбора признаков существенно возрастала, итоговый результат обучения и проверки качества модели на исходном трейне и тесте с отобранными признаками, не впечатлил (ROC-AUC 0.533 против 0.527)__"
   ],
   "metadata": {
    "collapsed": false
   }
  },
  {
   "cell_type": "markdown",
   "metadata": {},
   "source": [
    "Опционально (это не оценивается) можете рассмотреть более интересные стратегии отбора, чем жадная. Например, генетические алгоритмы. Можно закодировать бинарным вектором, включаем мы или нет тот или иной признак в модель. А дальше генетическим алгоритмом оптимизировать этот вектор. Всё ещё не быстро, но точно быстрее жадного.\n"
   ]
  },
  {
   "cell_type": "markdown",
   "metadata": {},
   "source": [
    "**Задание 13 (0.5 балла)** Давайте подведём итоги по отбору признаков. Назовите преимущества и недостатки каждого из методов. Какой метод привёл к наилучшему качеству? Если не делали бонус — сравните встроенный метод и метод фильтрации."
   ]
  },
  {
   "cell_type": "markdown",
   "source": [
    "\n",
    "**Ответ:** \n",
    "\n",
    "В таблице ниже приведена сводная информация о результатах отбора признаков разными методами, перечисленными в заданиях.  \n",
    "\n",
    "| Метод                                           | Временные затраты на отбор                    | Влияние на качество модели                       |\n",
    "|-------------------------------------------------|-----------------------------------------------|--------------------------------------------------|\n",
    "| Встроенный (оценка весов модели после обучения) | ~7 сек. (обучение модели)                     | практически не повлияло (0.52669 против 0.52695) |\n",
    "| L1-регуляризация                                | ~2.5 мин. (и это без подбора гиперпараметров) | несколько улучшилось (0.564 против 0.527)        |\n",
    "| Метод фильтрации                                | ~4 сек.                                       | несколько улучшилось (0.555 против 0.527)        |\n",
    "| Метод исключения признаков по одному            | ~41 мин.                                      | почти не улучшилось (0.533 против 0.527 )        |\n",
    "\n",
    "Дополнительно по каждому методу можно отметить следующее.\n",
    "\n",
    "1. Метод отбора на основе значений коэффициентов обученной модели логистической регрессии является в некотором смысле самым простым, т.к. почти не требует написания дополнительного кода. По времени он тоже не затратен (примерно 7 секунд уходит на обучение модели). Однако минус такого метода состоит в том, что такой отбор признаков практически не повлиял на качество модели. \n",
    "2. Метод отбора на основе L1-регуляризации также реализуется несложно (если использовать библиотеку scikit learn). Однако время даже на обучение одной модели с регуляризацией составило почти 2.5 минуты. И это притом, что гиперпараметры (в частности, коэффициент, влияющий на регуляризацию) были подобраны отдельно путем нескольких экспериментов. Если же подбирать гиперпараметры по сетке, то процесс может оказаться крайне долгим. При этом, в итоге отбор данным методом привел к наибольшему увеличению показателя качества модели. \n",
    "3. Метод фильтрации реализуется довольно несложно и работает быстрее всех: всего 4 секунды. При этом качество модели улучшилось не сильно, оказавшись вторым после метода с регуляризацией\n",
    "4. Метод исключения признаков оказался самым долгим и занял 41 минуту. И хотя в процессе удаления признаков метрика на специальной ограниченной тестовой выборке сильно росла, обучение модели на исходном трейне и проверка качества на исходном тесте почти не показало прироста в качестве.\n",
    "\n",
    "Таким образом, можно сказать, что в нашем случае наиболее эффективным оказался отбор признаков с помощью L1-регуляризации.\n",
    "  \n"
   ],
   "metadata": {
    "collapsed": false
   }
  }
 ],
 "metadata": {
  "kernelspec": {
   "display_name": "Python 3 (ipykernel)",
   "language": "python",
   "name": "python3"
  },
  "language_info": {
   "codemirror_mode": {
    "name": "ipython",
    "version": 3
   },
   "file_extension": ".py",
   "mimetype": "text/x-python",
   "name": "python",
   "nbconvert_exporter": "python",
   "pygments_lexer": "ipython3",
   "version": "3.11.5"
  },
  "toc": {
   "base_numbering": 1,
   "nav_menu": {},
   "number_sections": true,
   "sideBar": true,
   "skip_h1_title": true,
   "title_cell": "Table of Contents",
   "title_sidebar": "Contents",
   "toc_cell": false,
   "toc_position": {},
   "toc_section_display": true,
   "toc_window_display": false
  },
  "varInspector": {
   "cols": {
    "lenName": 16,
    "lenType": 16,
    "lenVar": 40
   },
   "kernels_config": {
    "python": {
     "delete_cmd_postfix": "",
     "delete_cmd_prefix": "del ",
     "library": "var_list.py",
     "varRefreshCmd": "print(var_dic_list())"
    },
    "r": {
     "delete_cmd_postfix": ") ",
     "delete_cmd_prefix": "rm(",
     "library": "var_list.r",
     "varRefreshCmd": "cat(var_dic_list()) "
    }
   },
   "types_to_exclude": [
    "module",
    "function",
    "builtin_function_or_method",
    "instance",
    "_Feature"
   ],
   "window_display": false
  }
 },
 "nbformat": 4,
 "nbformat_minor": 4
}
